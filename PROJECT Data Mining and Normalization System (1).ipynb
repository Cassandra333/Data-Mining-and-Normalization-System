{
 "cells": [
  {
   "cell_type": "code",
   "execution_count": 2,
   "id": "a8c09cb9",
   "metadata": {},
   "outputs": [],
   "source": [
    "import tensorflow as tf\n",
    "from tensorflow import keras as ks"
   ]
  },
  {
   "cell_type": "code",
   "execution_count": 6,
   "id": "910ca1ee",
   "metadata": {},
   "outputs": [],
   "source": [
    "(train_images,train_labels), (test_images,test_labels)= ks.datasets.fashion_mnist.load_data()"
   ]
  },
  {
   "cell_type": "code",
   "execution_count": 9,
   "id": "0e3a70d3",
   "metadata": {},
   "outputs": [
    {
     "name": "stdout",
     "output_type": "stream",
     "text": [
      "Model: \"sequential_1\"\n",
      "_________________________________________________________________\n",
      " Layer (type)                Output Shape              Param #   \n",
      "=================================================================\n",
      " conv2d_2 (Conv2D)           (None, 26, 26, 32)        320       \n",
      "                                                                 \n",
      " conv2d_3 (Conv2D)           (None, 24, 24, 64)        18496     \n",
      "                                                                 \n",
      " max_pooling2d_1 (MaxPooling  (None, 12, 12, 64)       0         \n",
      " 2D)                                                             \n",
      "                                                                 \n",
      " dropout_2 (Dropout)         (None, 12, 12, 64)        0         \n",
      "                                                                 \n",
      " flatten_1 (Flatten)         (None, 9216)              0         \n",
      "                                                                 \n",
      " dense_2 (Dense)             (None, 128)               1179776   \n",
      "                                                                 \n",
      " dropout_3 (Dropout)         (None, 128)               0         \n",
      "                                                                 \n",
      " dense_3 (Dense)             (None, 10)                1290      \n",
      "                                                                 \n",
      "=================================================================\n",
      "Total params: 1,199,882\n",
      "Trainable params: 1,199,882\n",
      "Non-trainable params: 0\n",
      "_________________________________________________________________\n",
      "Epoch 1/3\n",
      "469/469 [==============================] - 219s 466ms/step - loss: 0.5253 - accuracy: 0.8131 - val_loss: 0.3362 - val_accuracy: 0.8782\n",
      "Epoch 2/3\n",
      "469/469 [==============================] - 215s 458ms/step - loss: 0.3461 - accuracy: 0.8767 - val_loss: 0.2949 - val_accuracy: 0.8929\n",
      "Epoch 3/3\n",
      "469/469 [==============================] - 217s 463ms/step - loss: 0.2969 - accuracy: 0.8930 - val_loss: 0.2622 - val_accuracy: 0.9032\n"
     ]
    },
    {
     "data": {
      "text/plain": [
       "[0.2621520161628723, 0.9031999707221985]"
      ]
     },
     "execution_count": 9,
     "metadata": {},
     "output_type": "execute_result"
    }
   ],
   "source": [
    "x_train= train_images.reshape(train_images.shape[0],28,28,1)\n",
    "x_test= test_images.reshape(test_images.shape[0],28,28,1)\n",
    "\n",
    "x_train= x_train.astype('float32')/255.\n",
    "x_test= x_test.astype('float32')/255.\n",
    "\n",
    "y_train= ks.utils.to_categorical(train_labels,10)\n",
    "y_test= ks.utils.to_categorical(test_labels,10)\n",
    "\n",
    "input_shape= (28,28,1)\n",
    "\n",
    "model= ks.Sequential()\n",
    "model.add(ks.layers.Conv2D(32, kernel_size= (3,3),\n",
    "                          activation= 'relu',\n",
    "                          input_shape= input_shape))\n",
    "model.add(ks.layers.Conv2D(64, (3,3), activation= 'relu'))\n",
    "model.add(ks.layers.MaxPooling2D(pool_size= (2,2)))\n",
    "model.add(ks.layers.Dropout(0.25))\n",
    "\n",
    "model.add(ks.layers.Flatten())\n",
    "model.add(ks.layers.Dense(128, activation= 'relu'))\n",
    "model.add(ks.layers.Dropout(0.5))\n",
    "model.add(ks.layers.Dense(10, activation= 'softmax'))\n",
    "model.summary()\n",
    "\n",
    "model.compile(loss= ks.losses.categorical_crossentropy,\n",
    "             optimizer= 'adam',\n",
    "             metrics= ['accuracy'])\n",
    "\n",
    "model.fit(x_train,y_train,\n",
    "         batch_size= 128,\n",
    "         epochs= 3,\n",
    "         verbose= 1,\n",
    "         validation_data= (x_test,y_test))\n",
    "\n",
    "score= model.evaluate(x_test,y_test,verbose= 0)\n",
    "score"
   ]
  },
  {
   "cell_type": "code",
   "execution_count": null,
   "id": "d2b2e449",
   "metadata": {},
   "outputs": [],
   "source": [
    "## CONCLUSION: Our model is 90% accurate"
   ]
  }
 ],
 "metadata": {
  "kernelspec": {
   "display_name": "Python 3 (ipykernel)",
   "language": "python",
   "name": "python3"
  },
  "language_info": {
   "codemirror_mode": {
    "name": "ipython",
    "version": 3
   },
   "file_extension": ".py",
   "mimetype": "text/x-python",
   "name": "python",
   "nbconvert_exporter": "python",
   "pygments_lexer": "ipython3",
   "version": "3.9.7"
  }
 },
 "nbformat": 4,
 "nbformat_minor": 5
}
